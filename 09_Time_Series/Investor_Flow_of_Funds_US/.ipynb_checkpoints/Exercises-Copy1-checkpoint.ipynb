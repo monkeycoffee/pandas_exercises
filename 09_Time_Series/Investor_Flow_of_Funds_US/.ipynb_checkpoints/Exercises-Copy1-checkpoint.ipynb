{
 "cells": [
  {
   "cell_type": "markdown",
   "metadata": {},
   "source": [
    "# Investor - Flow of Funds - US"
   ]
  },
  {
   "cell_type": "markdown",
   "metadata": {},
   "source": [
    "### Introduction:\n",
    "\n",
    "Special thanks to: https://github.com/rgrp for sharing the dataset.\n",
    "\n",
    "### Step 1. Import the necessary libraries"
   ]
  },
  {
   "cell_type": "code",
   "execution_count": 1,
   "metadata": {
    "ExecuteTime": {
     "end_time": "2020-07-09T07:22:48.083990Z",
     "start_time": "2020-07-09T07:22:47.206568Z"
    }
   },
   "outputs": [],
   "source": [
    "import pandas as pd\n",
    "import numpy as np"
   ]
  },
  {
   "cell_type": "markdown",
   "metadata": {},
   "source": [
    "### Step 2. Import the dataset from this [address](https://raw.githubusercontent.com/datasets/investor-flow-of-funds-us/master/data/weekly.csv). "
   ]
  },
  {
   "cell_type": "markdown",
   "metadata": {},
   "source": [
    "### Step 3. Assign it to a variable called df"
   ]
  },
  {
   "cell_type": "code",
   "execution_count": 2,
   "metadata": {
    "ExecuteTime": {
     "end_time": "2020-07-09T07:22:53.529336Z",
     "start_time": "2020-07-09T07:22:53.455359Z"
    }
   },
   "outputs": [],
   "source": [
    "df = pd.read_excel('C://Github//pandas_exercises//09_Time_Series//Investor_Flow_of_Funds_US/fundsdata.xlsx')"
   ]
  },
  {
   "cell_type": "code",
   "execution_count": 4,
   "metadata": {
    "ExecuteTime": {
     "end_time": "2020-07-09T07:24:04.696469Z",
     "start_time": "2020-07-09T07:24:04.679511Z"
    }
   },
   "outputs": [
    {
     "data": {
      "text/html": [
       "<div>\n",
       "<style scoped>\n",
       "    .dataframe tbody tr th:only-of-type {\n",
       "        vertical-align: middle;\n",
       "    }\n",
       "\n",
       "    .dataframe tbody tr th {\n",
       "        vertical-align: top;\n",
       "    }\n",
       "\n",
       "    .dataframe thead th {\n",
       "        text-align: right;\n",
       "    }\n",
       "</style>\n",
       "<table border=\"1\" class=\"dataframe\">\n",
       "  <thead>\n",
       "    <tr style=\"text-align: right;\">\n",
       "      <th></th>\n",
       "      <th>Date</th>\n",
       "      <th>Total Equity</th>\n",
       "      <th>Domestic Equity</th>\n",
       "      <th>World Equity</th>\n",
       "      <th>Hybrid</th>\n",
       "      <th>Total Bond</th>\n",
       "      <th>Taxable Bond</th>\n",
       "      <th>Municipal Bond</th>\n",
       "      <th>Total</th>\n",
       "    </tr>\n",
       "  </thead>\n",
       "  <tbody>\n",
       "    <tr>\n",
       "      <td>0</td>\n",
       "      <td>2012-12-05</td>\n",
       "      <td>-7426</td>\n",
       "      <td>-6060</td>\n",
       "      <td>-1367</td>\n",
       "      <td>-74</td>\n",
       "      <td>5317</td>\n",
       "      <td>4210</td>\n",
       "      <td>1107</td>\n",
       "      <td>-2183</td>\n",
       "    </tr>\n",
       "    <tr>\n",
       "      <td>1</td>\n",
       "      <td>2012-12-12</td>\n",
       "      <td>-8783</td>\n",
       "      <td>-7520</td>\n",
       "      <td>-1263</td>\n",
       "      <td>123</td>\n",
       "      <td>1818</td>\n",
       "      <td>1598</td>\n",
       "      <td>219</td>\n",
       "      <td>-6842</td>\n",
       "    </tr>\n",
       "    <tr>\n",
       "      <td>2</td>\n",
       "      <td>2012-12-19</td>\n",
       "      <td>-5496</td>\n",
       "      <td>-5470</td>\n",
       "      <td>-26</td>\n",
       "      <td>-73</td>\n",
       "      <td>103</td>\n",
       "      <td>3472</td>\n",
       "      <td>-3369</td>\n",
       "      <td>-5466</td>\n",
       "    </tr>\n",
       "    <tr>\n",
       "      <td>3</td>\n",
       "      <td>2012-12-26</td>\n",
       "      <td>-4451</td>\n",
       "      <td>-4076</td>\n",
       "      <td>-375</td>\n",
       "      <td>550</td>\n",
       "      <td>2610</td>\n",
       "      <td>3333</td>\n",
       "      <td>-722</td>\n",
       "      <td>-1291</td>\n",
       "    </tr>\n",
       "    <tr>\n",
       "      <td>4</td>\n",
       "      <td>2013-01-02</td>\n",
       "      <td>-11156</td>\n",
       "      <td>-9622</td>\n",
       "      <td>-1533</td>\n",
       "      <td>-158</td>\n",
       "      <td>2383</td>\n",
       "      <td>2103</td>\n",
       "      <td>280</td>\n",
       "      <td>-8931</td>\n",
       "    </tr>\n",
       "  </tbody>\n",
       "</table>\n",
       "</div>"
      ],
      "text/plain": [
       "        Date  Total Equity  Domestic Equity  World Equity  Hybrid  Total Bond  \\\n",
       "0 2012-12-05         -7426            -6060         -1367     -74        5317   \n",
       "1 2012-12-12         -8783            -7520         -1263     123        1818   \n",
       "2 2012-12-19         -5496            -5470           -26     -73         103   \n",
       "3 2012-12-26         -4451            -4076          -375     550        2610   \n",
       "4 2013-01-02        -11156            -9622         -1533    -158        2383   \n",
       "\n",
       "   Taxable Bond  Municipal Bond  Total  \n",
       "0          4210            1107  -2183  \n",
       "1          1598             219  -6842  \n",
       "2          3472           -3369  -5466  \n",
       "3          3333            -722  -1291  \n",
       "4          2103             280  -8931  "
      ]
     },
     "execution_count": 4,
     "metadata": {},
     "output_type": "execute_result"
    }
   ],
   "source": [
    "df.head()"
   ]
  },
  {
   "cell_type": "markdown",
   "metadata": {},
   "source": [
    "### Step 4.  What is the frequency of the dataset?"
   ]
  },
  {
   "cell_type": "code",
   "execution_count": 6,
   "metadata": {
    "ExecuteTime": {
     "end_time": "2020-07-09T07:24:33.096107Z",
     "start_time": "2020-07-09T07:24:33.076160Z"
    }
   },
   "outputs": [
    {
     "data": {
      "text/html": [
       "<div>\n",
       "<style scoped>\n",
       "    .dataframe tbody tr th:only-of-type {\n",
       "        vertical-align: middle;\n",
       "    }\n",
       "\n",
       "    .dataframe tbody tr th {\n",
       "        vertical-align: top;\n",
       "    }\n",
       "\n",
       "    .dataframe thead th {\n",
       "        text-align: right;\n",
       "    }\n",
       "</style>\n",
       "<table border=\"1\" class=\"dataframe\">\n",
       "  <thead>\n",
       "    <tr style=\"text-align: right;\">\n",
       "      <th></th>\n",
       "      <th>Date</th>\n",
       "      <th>Total Equity</th>\n",
       "      <th>Domestic Equity</th>\n",
       "      <th>World Equity</th>\n",
       "      <th>Hybrid</th>\n",
       "      <th>Total Bond</th>\n",
       "      <th>Taxable Bond</th>\n",
       "      <th>Municipal Bond</th>\n",
       "      <th>Total</th>\n",
       "    </tr>\n",
       "  </thead>\n",
       "  <tbody>\n",
       "    <tr>\n",
       "      <td>0</td>\n",
       "      <td>2012-12-05</td>\n",
       "      <td>-7426</td>\n",
       "      <td>-6060</td>\n",
       "      <td>-1367</td>\n",
       "      <td>-74</td>\n",
       "      <td>5317</td>\n",
       "      <td>4210</td>\n",
       "      <td>1107</td>\n",
       "      <td>-2183</td>\n",
       "    </tr>\n",
       "    <tr>\n",
       "      <td>1</td>\n",
       "      <td>2012-12-12</td>\n",
       "      <td>-8783</td>\n",
       "      <td>-7520</td>\n",
       "      <td>-1263</td>\n",
       "      <td>123</td>\n",
       "      <td>1818</td>\n",
       "      <td>1598</td>\n",
       "      <td>219</td>\n",
       "      <td>-6842</td>\n",
       "    </tr>\n",
       "    <tr>\n",
       "      <td>2</td>\n",
       "      <td>2012-12-19</td>\n",
       "      <td>-5496</td>\n",
       "      <td>-5470</td>\n",
       "      <td>-26</td>\n",
       "      <td>-73</td>\n",
       "      <td>103</td>\n",
       "      <td>3472</td>\n",
       "      <td>-3369</td>\n",
       "      <td>-5466</td>\n",
       "    </tr>\n",
       "    <tr>\n",
       "      <td>3</td>\n",
       "      <td>2012-12-26</td>\n",
       "      <td>-4451</td>\n",
       "      <td>-4076</td>\n",
       "      <td>-375</td>\n",
       "      <td>550</td>\n",
       "      <td>2610</td>\n",
       "      <td>3333</td>\n",
       "      <td>-722</td>\n",
       "      <td>-1291</td>\n",
       "    </tr>\n",
       "    <tr>\n",
       "      <td>4</td>\n",
       "      <td>2013-01-02</td>\n",
       "      <td>-11156</td>\n",
       "      <td>-9622</td>\n",
       "      <td>-1533</td>\n",
       "      <td>-158</td>\n",
       "      <td>2383</td>\n",
       "      <td>2103</td>\n",
       "      <td>280</td>\n",
       "      <td>-8931</td>\n",
       "    </tr>\n",
       "  </tbody>\n",
       "</table>\n",
       "</div>"
      ],
      "text/plain": [
       "        Date  Total Equity  Domestic Equity  World Equity  Hybrid  Total Bond  \\\n",
       "0 2012-12-05         -7426            -6060         -1367     -74        5317   \n",
       "1 2012-12-12         -8783            -7520         -1263     123        1818   \n",
       "2 2012-12-19         -5496            -5470           -26     -73         103   \n",
       "3 2012-12-26         -4451            -4076          -375     550        2610   \n",
       "4 2013-01-02        -11156            -9622         -1533    -158        2383   \n",
       "\n",
       "   Taxable Bond  Municipal Bond  Total  \n",
       "0          4210            1107  -2183  \n",
       "1          1598             219  -6842  \n",
       "2          3472           -3369  -5466  \n",
       "3          3333            -722  -1291  \n",
       "4          2103             280  -8931  "
      ]
     },
     "execution_count": 6,
     "metadata": {},
     "output_type": "execute_result"
    }
   ],
   "source": [
    "df.sort_values('Date').head()"
   ]
  },
  {
   "cell_type": "markdown",
   "metadata": {},
   "source": [
    "### Step 5. Set the column Date as the index."
   ]
  },
  {
   "cell_type": "code",
   "execution_count": 8,
   "metadata": {
    "ExecuteTime": {
     "end_time": "2020-07-09T07:25:01.042330Z",
     "start_time": "2020-07-09T07:25:01.036713Z"
    }
   },
   "outputs": [],
   "source": [
    "df = df.set_index('Date')"
   ]
  },
  {
   "cell_type": "markdown",
   "metadata": {},
   "source": [
    "### Step 6. What is the type of the index?"
   ]
  },
  {
   "cell_type": "code",
   "execution_count": 9,
   "metadata": {
    "ExecuteTime": {
     "end_time": "2020-07-09T07:25:07.861324Z",
     "start_time": "2020-07-09T07:25:07.854342Z"
    }
   },
   "outputs": [
    {
     "data": {
      "text/plain": [
       "dtype('<M8[ns]')"
      ]
     },
     "execution_count": 9,
     "metadata": {},
     "output_type": "execute_result"
    }
   ],
   "source": [
    "df.index.dtype"
   ]
  },
  {
   "cell_type": "markdown",
   "metadata": {},
   "source": [
    "### Step 7. Set the index to a DatetimeIndex type"
   ]
  },
  {
   "cell_type": "code",
   "execution_count": 12,
   "metadata": {
    "ExecuteTime": {
     "end_time": "2020-07-09T07:25:56.715194Z",
     "start_time": "2020-07-09T07:25:56.711240Z"
    }
   },
   "outputs": [],
   "source": [
    "df.index = pd.to_datetime(df.index)"
   ]
  },
  {
   "cell_type": "markdown",
   "metadata": {},
   "source": [
    "### Step 8.  Change the frequency to monthly, sum the values and assign it to monthly.\n",
    "按月聚合"
   ]
  },
  {
   "cell_type": "code",
   "execution_count": 14,
   "metadata": {
    "ExecuteTime": {
     "end_time": "2020-07-09T07:26:26.160053Z",
     "start_time": "2020-07-09T07:26:26.148735Z"
    }
   },
   "outputs": [],
   "source": [
    "monthly = df.resample('M').sum()"
   ]
  },
  {
   "cell_type": "markdown",
   "metadata": {},
   "source": [
    "### Step 9. You will notice that it filled the dataFrame with months that don't have any data with NaN. Let's drop these rows."
   ]
  },
  {
   "cell_type": "code",
   "execution_count": 22,
   "metadata": {
    "ExecuteTime": {
     "end_time": "2020-07-09T07:28:43.998809Z",
     "start_time": "2020-07-09T07:28:43.991494Z"
    }
   },
   "outputs": [],
   "source": [
    "monthly = monthly.dropna()"
   ]
  },
  {
   "cell_type": "markdown",
   "metadata": {},
   "source": [
    "### Step 10. Good, now we have the monthly data. Now change the frequency to year.\n",
    "按年聚合"
   ]
  },
  {
   "cell_type": "code",
   "execution_count": 29,
   "metadata": {
    "ExecuteTime": {
     "end_time": "2020-07-09T07:30:42.709630Z",
     "start_time": "2020-07-09T07:30:42.696664Z"
    }
   },
   "outputs": [],
   "source": [
    "yearly = monthly.resample('Y').sum()"
   ]
  },
  {
   "cell_type": "markdown",
   "metadata": {},
   "source": [
    "### BONUS: Create your own question and answer it."
   ]
  },
  {
   "cell_type": "code",
   "execution_count": null,
   "metadata": {
    "collapsed": true
   },
   "outputs": [],
   "source": []
  }
 ],
 "metadata": {
  "kernelspec": {
   "display_name": "Python 3",
   "language": "python",
   "name": "python3"
  },
  "language_info": {
   "codemirror_mode": {
    "name": "ipython",
    "version": 3
   },
   "file_extension": ".py",
   "mimetype": "text/x-python",
   "name": "python",
   "nbconvert_exporter": "python",
   "pygments_lexer": "ipython3",
   "version": "3.7.4"
  }
 },
 "nbformat": 4,
 "nbformat_minor": 1
}
